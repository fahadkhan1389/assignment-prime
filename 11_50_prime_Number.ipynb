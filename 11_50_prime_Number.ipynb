{
  "nbformat": 4,
  "nbformat_minor": 0,
  "metadata": {
    "colab": {
      "provenance": []
    },
    "kernelspec": {
      "name": "python3",
      "display_name": "Python 3"
    },
    "language_info": {
      "name": "python"
    }
  },
  "cells": [
    {
      "cell_type": "code",
      "execution_count": null,
      "metadata": {
        "colab": {
          "base_uri": "https://localhost:8080/"
        },
        "id": "fiFmW3qK5AA3",
        "outputId": "39d01b31-9826-40e5-b163-2cec9dd16ec9"
      },
      "outputs": [
        {
          "output_type": "stream",
          "name": "stdout",
          "text": [
            "[11, 13, 17, 19, 23, 29, 31, 37, 41, 43, 47]\n"
          ]
        }
      ],
      "source": [
        "primes = []\n",
        "for i in range(11, 51):\n",
        "    for j in range(2, i):\n",
        "        if i % j == 0:\n",
        "            break\n",
        "    else:\n",
        "        primes.append(i)\n",
        "print(primes)"
      ]
    },
    {
      "cell_type": "code",
      "source": [
        "a = [11,15,17,19]\n",
        "b = [2,5,7,11]\n",
        "for i in a:\n",
        "    for j in range(2, i):\n",
        "        if i % j == 0:\n",
        "          primes_a=False\n",
        "          break\n",
        "print(primes_a)\n",
        "for i in b:\n",
        "    for j in range(2, i):\n",
        "        if i % j == 0:\n",
        "          primes_a=False\n",
        "          break\n",
        "print(primes_b)\n"
      ],
      "metadata": {
        "colab": {
          "base_uri": "https://localhost:8080/"
        },
        "id": "bm5JUQY7Ei-e",
        "outputId": "4338db40-368a-43e9-ecfd-f843ff7406e0"
      },
      "execution_count": null,
      "outputs": [
        {
          "output_type": "stream",
          "name": "stdout",
          "text": [
            "False\n",
            "True\n"
          ]
        }
      ]
    }
  ]
}